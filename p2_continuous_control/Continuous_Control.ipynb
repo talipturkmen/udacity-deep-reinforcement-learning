{
 "cells": [
  {
   "cell_type": "markdown",
   "metadata": {},
   "source": [
    "# Continuous Control\n",
    "\n",
    "---\n",
    "\n",
    "You are welcome to use this coding environment to train your agent for the project.  Follow the instructions below to get started!\n",
    "\n",
    "### 1. Start the Environment\n",
    "\n",
    "Run the next code cell to install a few packages.  This line will take a few minutes to run!"
   ]
  },
  {
   "cell_type": "code",
   "execution_count": 1,
   "metadata": {},
   "outputs": [
    {
     "name": "stdout",
     "output_type": "stream",
     "text": [
      "\u001b[31mtensorflow 1.7.1 has requirement numpy>=1.13.3, but you'll have numpy 1.12.1 which is incompatible.\u001b[0m\r\n",
      "\u001b[31mipython 6.5.0 has requirement prompt-toolkit<2.0.0,>=1.0.15, but you'll have prompt-toolkit 3.0.5 which is incompatible.\u001b[0m\r\n"
     ]
    }
   ],
   "source": [
    "!pip -q install requirements.txt"
   ]
  },
  {
   "cell_type": "code",
   "execution_count": 2,
   "metadata": {},
   "outputs": [],
   "source": [
    "from unityagents import UnityEnvironment\n",
    "import numpy as np\n",
    "\n",
    "import torch\n",
    "import torch.nn as nn\n",
    "import torch.nn.functional as F\n",
    "import torch.optim as optim\n",
    "\n",
    "from collections import deque\n",
    "import matplotlib.pyplot as plt\n",
    "%matplotlib inline\n",
    "\n",
    "\n",
    "from agent_ddpg import Agent\n",
    "import time\n",
    "plt.ion()"
   ]
  },
  {
   "cell_type": "markdown",
   "metadata": {},
   "source": [
    "The environments corresponding to both versions of the environment are already saved in the Workspace and can be accessed at the file paths provided below.  \n",
    "\n",
    "Please select one of the two options below for loading the environment."
   ]
  },
  {
   "cell_type": "code",
   "execution_count": 3,
   "metadata": {},
   "outputs": [
    {
     "name": "stderr",
     "output_type": "stream",
     "text": [
      "INFO:unityagents:\n",
      "'Academy' started successfully!\n",
      "Unity Academy name: Academy\n",
      "        Number of Brains: 1\n",
      "        Number of External Brains : 1\n",
      "        Lesson number : 0\n",
      "        Reset Parameters :\n",
      "\t\tgoal_speed -> 1.0\n",
      "\t\tgoal_size -> 5.0\n",
      "Unity brain name: ReacherBrain\n",
      "        Number of Visual Observations (per agent): 0\n",
      "        Vector Observation space type: continuous\n",
      "        Vector Observation space size (per agent): 33\n",
      "        Number of stacked Vector Observation: 1\n",
      "        Vector Action space type: continuous\n",
      "        Vector Action space size (per agent): 4\n",
      "        Vector Action descriptions: , , , \n"
     ]
    }
   ],
   "source": [
    "# select this option to load version 1 (with a single agent) of the environment\n",
    "# env = UnityEnvironment(file_name='/data/Reacher_One_Linux_NoVis/Reacher_One_Linux_NoVis.x86_64')\n",
    "\n",
    "# select this option to load version 2 (with 20 agents) of the environment\n",
    "env = UnityEnvironment(file_name='/data/Reacher_Linux_NoVis/Reacher.x86_64')"
   ]
  },
  {
   "cell_type": "markdown",
   "metadata": {},
   "source": [
    "Environments contain **_brains_** which are responsible for deciding the actions of their associated agents. Here we check for the first brain available, and set it as the default brain we will be controlling from Python."
   ]
  },
  {
   "cell_type": "code",
   "execution_count": 4,
   "metadata": {},
   "outputs": [],
   "source": [
    "# get the default brain\n",
    "brain_name = env.brain_names[0]\n",
    "brain = env.brains[brain_name]"
   ]
  },
  {
   "cell_type": "markdown",
   "metadata": {},
   "source": [
    "### 2. Examine the State and Action Spaces\n",
    "\n",
    "Run the code cell below to print some information about the environment."
   ]
  },
  {
   "cell_type": "code",
   "execution_count": 5,
   "metadata": {},
   "outputs": [
    {
     "name": "stdout",
     "output_type": "stream",
     "text": [
      "Number of agents: 20\n",
      "Size of each action: 4\n",
      "There are 20 agents. Each observes a state with length: 33\n",
      "The state for the first agent looks like: [  0.00000000e+00  -4.00000000e+00   0.00000000e+00   1.00000000e+00\n",
      "  -0.00000000e+00  -0.00000000e+00  -4.37113883e-08   0.00000000e+00\n",
      "   0.00000000e+00   0.00000000e+00   0.00000000e+00   0.00000000e+00\n",
      "   0.00000000e+00   0.00000000e+00  -1.00000000e+01   0.00000000e+00\n",
      "   1.00000000e+00  -0.00000000e+00  -0.00000000e+00  -4.37113883e-08\n",
      "   0.00000000e+00   0.00000000e+00   0.00000000e+00   0.00000000e+00\n",
      "   0.00000000e+00   0.00000000e+00   5.75471878e+00  -1.00000000e+00\n",
      "   5.55726624e+00   0.00000000e+00   1.00000000e+00   0.00000000e+00\n",
      "  -1.68164849e-01]\n"
     ]
    }
   ],
   "source": [
    "# reset the environment\n",
    "env_info = env.reset(train_mode=True)[brain_name]\n",
    "\n",
    "# number of agents\n",
    "num_agents = len(env_info.agents)\n",
    "print('Number of agents:', num_agents)\n",
    "\n",
    "# size of each action\n",
    "action_size = brain.vector_action_space_size\n",
    "print('Size of each action:', action_size)\n",
    "\n",
    "# examine the state space \n",
    "states = env_info.vector_observations\n",
    "state_size = states.shape[1]\n",
    "print('There are {} agents. Each observes a state with length: {}'.format(states.shape[0], state_size))\n",
    "print('The state for the first agent looks like:', states[0])"
   ]
  },
  {
   "cell_type": "markdown",
   "metadata": {},
   "source": [
    "### 3. Take Random Actions in the Environment\n",
    "\n",
    "In the next code cell, you will learn how to use the Python API to control the agent and receive feedback from the environment.\n",
    "\n",
    "Note that **in this coding environment, you will not be able to watch the agents while they are training**, and you should set `train_mode=True` to restart the environment."
   ]
  },
  {
   "cell_type": "code",
   "execution_count": 6,
   "metadata": {},
   "outputs": [
    {
     "name": "stdout",
     "output_type": "stream",
     "text": [
      "Total score (averaged over agents) this episode: 0.10199999772012233\n"
     ]
    }
   ],
   "source": [
    "env_info = env.reset(train_mode=True)[brain_name]      # reset the environment    \n",
    "states = env_info.vector_observations                  # get the current state (for each agent)\n",
    "scores = np.zeros(num_agents)                          # initialize the score (for each agent)\n",
    "while True:\n",
    "    actions = np.random.randn(num_agents, action_size) # select an action (for each agent)\n",
    "    actions = np.clip(actions, -1, 1)                  # all actions between -1 and 1\n",
    "    env_info = env.step(actions)[brain_name]           # send all actions to tne environment\n",
    "    next_states = env_info.vector_observations         # get next state (for each agent)\n",
    "    rewards = env_info.rewards                         # get reward (for each agent)\n",
    "    dones = env_info.local_done                        # see if episode finished\n",
    "    scores += env_info.rewards                         # update the score (for each agent)\n",
    "    states = next_states                               # roll over states to next time step\n",
    "    if np.any(dones):                                  # exit loop if episode finished\n",
    "        break\n",
    "print('Total score (averaged over agents) this episode: {}'.format(np.mean(scores)))"
   ]
  },
  {
   "cell_type": "markdown",
   "metadata": {},
   "source": [
    "### 4.Train"
   ]
  },
  {
   "cell_type": "code",
   "execution_count": 7,
   "metadata": {},
   "outputs": [],
   "source": [
    "agent = Agent(state_size=state_size, action_size=action_size, random_seed=1234)"
   ]
  },
  {
   "cell_type": "code",
   "execution_count": 8,
   "metadata": {},
   "outputs": [],
   "source": [
    "def ddpg(n_episodes=3000,score_threshold=32.0,print_interval=10):\n",
    "    scores_deque = deque(maxlen=100)\n",
    "    scores_global = []\n",
    "\n",
    "    for i_episode in range(1, n_episodes + 1):\n",
    "        env_info = env.reset(train_mode=True)[brain_name]  # reset the environment\n",
    "        states = env_info.vector_observations  # get the current state (for each agent)\n",
    "        scores = np.zeros(num_agents)  # initialize the score (for each agent)\n",
    "        agent.reset()\n",
    "\n",
    "        score_average = 0\n",
    "        timestep = time.time()\n",
    "        for t in range(3000):\n",
    "            actions = agent.act(states)\n",
    "            env_info = env.step(actions)[brain_name]  # send all actions to tne environment\n",
    "            next_states = env_info.vector_observations  # get next state (for each agent)\n",
    "            rewards = env_info.rewards  # get reward (for each agent)\n",
    "            dones = env_info.local_done  # see if episode finished\n",
    "            agent.step(states, actions, rewards, next_states, dones, t)\n",
    "            states = next_states  # roll over states to next time step\n",
    "            scores += rewards  # update the score (for each agent)\n",
    "            if np.any(dones):  # exit loop if episode finished\n",
    "                break\n",
    "\n",
    "        score = np.mean(scores)\n",
    "        scores_deque.append(score)\n",
    "        score_average = np.mean(scores_deque)\n",
    "        scores_global.append(score)\n",
    "\n",
    "        print('\\rEpisode {}, Average Score: {:.2f}, Max: {:.2f}, Min: {:.2f}, Time: {:.2f}' \\\n",
    "              .format(i_episode, score_average, np.max(scores), np.min(scores), time.time() - timestep), end=\"\\n\")\n",
    "\n",
    "        if i_episode % print_interval == 0:\n",
    "            print('\\rEpisode: {}\\tAverage Score: {:.2f}'.format(i_episode, score_average))\n",
    "\n",
    "        if score_average > score_threshold:\n",
    "            print('\\nEnvironment solved in {} episodes!\\tAverage Score: {:.2f}'.format(i_episode, score_average))\n",
    "            torch.save(agent.actor_local.state_dict(), 'checkpoint_actor.pth')\n",
    "            torch.save(agent.critic_local.state_dict(), 'checkpoint_critic.pth')\n",
    "            break\n",
    "\n",
    "    np.save('scores.npy', scores_global)\n",
    "\n",
    "    return scores_global\n"
   ]
  },
  {
   "cell_type": "code",
   "execution_count": 9,
   "metadata": {
    "scrolled": true
   },
   "outputs": [
    {
     "name": "stdout",
     "output_type": "stream",
     "text": [
      "Episode 1, Average Score: 0.59, Max: 1.18, Min: 0.11, Time: 14.53\n",
      "Episode 2, Average Score: 0.33, Max: 0.29, Min: 0.00, Time: 14.81\n",
      "Episode 3, Average Score: 0.23, Max: 0.20, Min: 0.00, Time: 14.91\n",
      "Episode 4, Average Score: 0.33, Max: 1.39, Min: 0.00, Time: 15.02\n",
      "Episode 5, Average Score: 0.42, Max: 1.74, Min: 0.29, Time: 15.02\n",
      "Episode 6, Average Score: 0.47, Max: 1.38, Min: 0.00, Time: 15.11\n",
      "Episode 7, Average Score: 0.50, Max: 1.48, Min: 0.18, Time: 15.33\n",
      "Episode 8, Average Score: 0.53, Max: 1.58, Min: 0.27, Time: 15.56\n",
      "Episode 9, Average Score: 0.56, Max: 1.40, Min: 0.26, Time: 15.33\n",
      "Episode 10, Average Score: 0.61, Max: 1.83, Min: 0.21, Time: 15.54\n",
      "Episode: 10\tAverage Score: 0.61\n",
      "Episode 11, Average Score: 0.63, Max: 2.10, Min: 0.00, Time: 15.81\n",
      "Episode 12, Average Score: 0.67, Max: 2.21, Min: 0.40, Time: 15.73\n",
      "Episode 13, Average Score: 0.70, Max: 1.84, Min: 0.12, Time: 15.99\n",
      "Episode 14, Average Score: 0.72, Max: 1.82, Min: 0.24, Time: 16.15\n",
      "Episode 15, Average Score: 0.76, Max: 2.64, Min: 0.32, Time: 16.36\n",
      "Episode 16, Average Score: 0.81, Max: 3.03, Min: 0.20, Time: 16.71\n",
      "Episode 17, Average Score: 0.82, Max: 2.67, Min: 0.27, Time: 16.65\n",
      "Episode 18, Average Score: 0.83, Max: 2.18, Min: 0.14, Time: 16.98\n",
      "Episode 19, Average Score: 0.84, Max: 2.12, Min: 0.17, Time: 17.32\n",
      "Episode 20, Average Score: 0.88, Max: 4.90, Min: 0.54, Time: 17.49\n",
      "Episode: 20\tAverage Score: 0.88\n",
      "Episode 21, Average Score: 0.90, Max: 2.85, Min: 0.43, Time: 17.63\n",
      "Episode 22, Average Score: 0.92, Max: 2.70, Min: 0.14, Time: 17.90\n",
      "Episode 23, Average Score: 0.96, Max: 3.37, Min: 0.47, Time: 18.22\n",
      "Episode 24, Average Score: 1.00, Max: 5.06, Min: 0.55, Time: 18.34\n",
      "Episode 25, Average Score: 1.04, Max: 4.43, Min: 0.43, Time: 18.64\n",
      "Episode 26, Average Score: 1.08, Max: 5.12, Min: 0.63, Time: 19.17\n",
      "Episode 27, Average Score: 1.10, Max: 3.43, Min: 0.34, Time: 19.24\n",
      "Episode 28, Average Score: 1.12, Max: 3.09, Min: 0.40, Time: 19.55\n",
      "Episode 29, Average Score: 1.15, Max: 3.67, Min: 0.34, Time: 19.77\n",
      "Episode 30, Average Score: 1.20, Max: 5.21, Min: 1.51, Time: 19.88\n",
      "Episode: 30\tAverage Score: 1.20\n",
      "Episode 31, Average Score: 1.25, Max: 4.30, Min: 0.76, Time: 20.15\n",
      "Episode 32, Average Score: 1.33, Max: 5.74, Min: 1.90, Time: 20.34\n",
      "Episode 33, Average Score: 1.39, Max: 8.30, Min: 1.25, Time: 20.66\n",
      "Episode 34, Average Score: 1.46, Max: 9.41, Min: 1.48, Time: 21.05\n",
      "Episode 35, Average Score: 1.53, Max: 7.18, Min: 2.45, Time: 21.47\n",
      "Episode 36, Average Score: 1.61, Max: 8.87, Min: 1.40, Time: 21.74\n",
      "Episode 37, Average Score: 1.68, Max: 10.75, Min: 2.19, Time: 21.87\n",
      "Episode 38, Average Score: 1.76, Max: 7.20, Min: 2.28, Time: 22.14\n",
      "Episode 39, Average Score: 1.83, Max: 8.48, Min: 2.30, Time: 22.43\n",
      "Episode 40, Average Score: 1.90, Max: 9.92, Min: 2.48, Time: 22.70\n",
      "Episode: 40\tAverage Score: 1.90\n",
      "Episode 41, Average Score: 1.98, Max: 8.35, Min: 1.68, Time: 23.18\n",
      "Episode 42, Average Score: 2.07, Max: 14.87, Min: 0.78, Time: 22.96\n",
      "Episode 43, Average Score: 2.16, Max: 9.18, Min: 0.49, Time: 23.18\n",
      "Episode 44, Average Score: 2.28, Max: 13.21, Min: 4.16, Time: 23.62\n",
      "Episode 45, Average Score: 2.40, Max: 9.29, Min: 4.11, Time: 23.76\n",
      "Episode 46, Average Score: 2.51, Max: 14.25, Min: 0.40, Time: 24.19\n",
      "Episode 47, Average Score: 2.62, Max: 11.76, Min: 3.39, Time: 24.45\n",
      "Episode 48, Average Score: 2.71, Max: 10.05, Min: 0.25, Time: 24.73\n",
      "Episode 49, Average Score: 2.81, Max: 18.98, Min: 3.43, Time: 24.99\n",
      "Episode 50, Average Score: 2.91, Max: 12.71, Min: 3.86, Time: 25.07\n",
      "Episode: 50\tAverage Score: 2.91\n",
      "Episode 51, Average Score: 3.03, Max: 17.29, Min: 3.31, Time: 25.29\n",
      "Episode 52, Average Score: 3.08, Max: 10.66, Min: 1.55, Time: 25.27\n",
      "Episode 53, Average Score: 3.17, Max: 17.35, Min: 2.38, Time: 25.27\n",
      "Episode 54, Average Score: 3.25, Max: 11.85, Min: 1.98, Time: 25.58\n",
      "Episode 55, Average Score: 3.34, Max: 12.99, Min: 3.32, Time: 25.10\n",
      "Episode 56, Average Score: 3.46, Max: 14.66, Min: 5.83, Time: 25.23\n",
      "Episode 57, Average Score: 3.60, Max: 24.89, Min: 6.95, Time: 25.35\n",
      "Episode 58, Average Score: 3.72, Max: 16.70, Min: 1.11, Time: 25.29\n",
      "Episode 59, Average Score: 3.87, Max: 18.46, Min: 4.24, Time: 25.41\n",
      "Episode 60, Average Score: 4.02, Max: 19.10, Min: 5.07, Time: 25.61\n",
      "Episode: 60\tAverage Score: 4.02\n",
      "Episode 61, Average Score: 4.17, Max: 19.30, Min: 4.50, Time: 25.55\n",
      "Episode 62, Average Score: 4.33, Max: 29.45, Min: 0.72, Time: 25.29\n",
      "Episode 63, Average Score: 4.48, Max: 20.63, Min: 7.09, Time: 25.64\n",
      "Episode 64, Average Score: 4.64, Max: 31.30, Min: 6.28, Time: 25.23\n",
      "Episode 65, Average Score: 4.80, Max: 20.55, Min: 7.46, Time: 25.42\n",
      "Episode 66, Average Score: 5.00, Max: 27.80, Min: 7.67, Time: 25.54\n",
      "Episode 67, Average Score: 5.17, Max: 21.73, Min: 10.16, Time: 25.54\n",
      "Episode 68, Average Score: 5.35, Max: 22.82, Min: 0.00, Time: 25.54\n",
      "Episode 69, Average Score: 5.55, Max: 36.05, Min: 9.87, Time: 25.40\n",
      "Episode 70, Average Score: 5.72, Max: 30.16, Min: 0.00, Time: 25.32\n",
      "Episode: 70\tAverage Score: 5.72\n",
      "Episode 71, Average Score: 5.94, Max: 31.91, Min: 13.52, Time: 25.37\n",
      "Episode 72, Average Score: 6.12, Max: 33.76, Min: 10.33, Time: 25.44\n",
      "Episode 73, Average Score: 6.26, Max: 21.14, Min: 10.68, Time: 25.51\n",
      "Episode 74, Average Score: 6.41, Max: 29.11, Min: 9.63, Time: 25.46\n",
      "Episode 75, Average Score: 6.58, Max: 23.96, Min: 11.61, Time: 25.41\n",
      "Episode 76, Average Score: 6.72, Max: 34.29, Min: 0.00, Time: 25.51\n",
      "Episode 77, Average Score: 6.87, Max: 38.69, Min: 8.22, Time: 25.54\n",
      "Episode 78, Average Score: 7.00, Max: 25.53, Min: 9.91, Time: 25.69\n",
      "Episode 79, Average Score: 7.13, Max: 23.00, Min: 6.28, Time: 25.35\n",
      "Episode 80, Average Score: 7.27, Max: 35.33, Min: 7.17, Time: 25.36\n",
      "Episode: 80\tAverage Score: 7.27\n",
      "Episode 81, Average Score: 7.42, Max: 24.14, Min: 8.40, Time: 25.29\n",
      "Episode 82, Average Score: 7.54, Max: 27.30, Min: 9.88, Time: 25.53\n",
      "Episode 83, Average Score: 7.69, Max: 27.22, Min: 12.70, Time: 25.38\n",
      "Episode 84, Average Score: 7.82, Max: 25.72, Min: 0.33, Time: 25.40\n",
      "Episode 85, Average Score: 7.97, Max: 24.66, Min: 13.65, Time: 25.48\n",
      "Episode 86, Average Score: 8.12, Max: 27.50, Min: 10.49, Time: 25.40\n",
      "Episode 87, Average Score: 8.28, Max: 25.65, Min: 14.80, Time: 25.52\n",
      "Episode 88, Average Score: 8.43, Max: 26.72, Min: 14.17, Time: 25.19\n",
      "Episode 89, Average Score: 8.57, Max: 30.28, Min: 11.53, Time: 25.40\n",
      "Episode 90, Average Score: 8.72, Max: 24.92, Min: 17.04, Time: 25.51\n",
      "Episode: 90\tAverage Score: 8.72\n",
      "Episode 91, Average Score: 8.85, Max: 24.42, Min: 7.89, Time: 25.37\n",
      "Episode 92, Average Score: 9.00, Max: 39.43, Min: 8.60, Time: 25.22\n",
      "Episode 93, Average Score: 9.14, Max: 29.88, Min: 16.08, Time: 25.39\n",
      "Episode 94, Average Score: 9.29, Max: 27.73, Min: 10.29, Time: 25.27\n",
      "Episode 95, Average Score: 9.45, Max: 36.04, Min: 17.11, Time: 25.77\n",
      "Episode 96, Average Score: 9.59, Max: 31.60, Min: 14.92, Time: 25.58\n",
      "Episode 97, Average Score: 9.74, Max: 30.76, Min: 19.46, Time: 25.16\n",
      "Episode 98, Average Score: 9.87, Max: 30.51, Min: 15.52, Time: 25.09\n",
      "Episode 99, Average Score: 9.99, Max: 30.08, Min: 15.73, Time: 25.33\n",
      "Episode 100, Average Score: 10.10, Max: 28.81, Min: 16.23, Time: 25.13\n",
      "Episode: 100\tAverage Score: 10.10\n",
      "Episode 101, Average Score: 10.32, Max: 38.62, Min: 14.48, Time: 25.11\n",
      "Episode 102, Average Score: 10.54, Max: 30.37, Min: 13.67, Time: 25.16\n",
      "Episode 103, Average Score: 10.76, Max: 28.81, Min: 17.44, Time: 25.89\n",
      "Episode 104, Average Score: 10.99, Max: 28.52, Min: 17.07, Time: 25.51\n",
      "Episode 105, Average Score: 11.23, Max: 36.90, Min: 16.31, Time: 25.48\n",
      "Episode 106, Average Score: 11.47, Max: 30.16, Min: 18.46, Time: 25.21\n",
      "Episode 107, Average Score: 11.72, Max: 31.97, Min: 19.45, Time: 25.39\n",
      "Episode 108, Average Score: 11.94, Max: 28.10, Min: 17.08, Time: 25.25\n",
      "Episode 109, Average Score: 12.20, Max: 35.22, Min: 18.73, Time: 25.56\n",
      "Episode 110, Average Score: 12.41, Max: 27.02, Min: 17.92, Time: 25.32\n",
      "Episode: 110\tAverage Score: 12.41\n",
      "Episode 111, Average Score: 12.63, Max: 28.64, Min: 14.20, Time: 25.02\n",
      "Episode 112, Average Score: 12.87, Max: 30.80, Min: 20.63, Time: 25.04\n",
      "Episode 113, Average Score: 13.10, Max: 29.10, Min: 18.00, Time: 25.11\n",
      "Episode 114, Average Score: 13.35, Max: 31.21, Min: 19.07, Time: 24.94\n",
      "Episode 115, Average Score: 13.61, Max: 37.20, Min: 18.00, Time: 25.42\n",
      "Episode 116, Average Score: 13.83, Max: 28.41, Min: 12.83, Time: 24.33\n",
      "Episode 117, Average Score: 14.08, Max: 34.33, Min: 17.75, Time: 24.43\n",
      "Episode 118, Average Score: 14.32, Max: 37.78, Min: 15.63, Time: 24.63\n",
      "Episode 119, Average Score: 14.55, Max: 31.57, Min: 19.22, Time: 24.58\n",
      "Episode 120, Average Score: 14.80, Max: 36.96, Min: 17.30, Time: 24.91\n",
      "Episode: 120\tAverage Score: 14.80\n",
      "Episode 121, Average Score: 15.06, Max: 31.53, Min: 22.20, Time: 25.48\n",
      "Episode 122, Average Score: 15.34, Max: 33.69, Min: 19.49, Time: 25.40\n",
      "Episode 123, Average Score: 15.64, Max: 39.03, Min: 22.42, Time: 25.12\n",
      "Episode 124, Average Score: 15.93, Max: 38.64, Min: 19.54, Time: 25.40\n",
      "Episode 125, Average Score: 16.20, Max: 35.71, Min: 23.99, Time: 25.32\n",
      "Episode 126, Average Score: 16.50, Max: 38.09, Min: 23.39, Time: 25.25\n",
      "Episode 127, Average Score: 16.80, Max: 36.67, Min: 22.69, Time: 25.56\n",
      "Episode 128, Average Score: 17.10, Max: 37.17, Min: 22.76, Time: 25.43\n",
      "Episode 129, Average Score: 17.37, Max: 33.48, Min: 22.70, Time: 25.18\n",
      "Episode 130, Average Score: 17.60, Max: 29.31, Min: 21.72, Time: 25.07\n",
      "Episode: 130\tAverage Score: 17.60\n",
      "Episode 131, Average Score: 17.87, Max: 36.57, Min: 24.74, Time: 25.14\n",
      "Episode 132, Average Score: 18.13, Max: 34.48, Min: 24.15, Time: 25.28\n",
      "Episode 133, Average Score: 18.38, Max: 33.51, Min: 17.87, Time: 25.35\n",
      "Episode 134, Average Score: 18.65, Max: 35.39, Min: 24.83, Time: 25.33\n",
      "Episode 135, Average Score: 18.90, Max: 39.25, Min: 21.54, Time: 25.42\n",
      "Episode 136, Average Score: 19.17, Max: 39.42, Min: 22.98, Time: 25.31\n",
      "Episode 137, Average Score: 19.43, Max: 35.44, Min: 16.80, Time: 25.32\n",
      "Episode 138, Average Score: 19.71, Max: 36.81, Min: 25.77, Time: 25.20\n",
      "Episode 139, Average Score: 19.99, Max: 37.36, Min: 22.13, Time: 25.15\n",
      "Episode 140, Average Score: 20.25, Max: 38.14, Min: 19.91, Time: 25.61\n",
      "Episode: 140\tAverage Score: 20.25\n",
      "Episode 141, Average Score: 20.52, Max: 38.04, Min: 24.02, Time: 25.55\n",
      "Episode 142, Average Score: 20.81, Max: 38.15, Min: 30.53, Time: 25.47\n",
      "Episode 143, Average Score: 21.08, Max: 39.09, Min: 23.39, Time: 25.37\n",
      "Episode 144, Average Score: 21.34, Max: 37.74, Min: 29.24, Time: 25.51\n",
      "Episode 145, Average Score: 21.59, Max: 37.14, Min: 24.25, Time: 25.51\n",
      "Episode 146, Average Score: 21.84, Max: 39.16, Min: 23.57, Time: 25.50\n",
      "Episode 147, Average Score: 22.10, Max: 38.40, Min: 27.02, Time: 25.35\n",
      "Episode 148, Average Score: 22.37, Max: 39.47, Min: 25.24, Time: 25.31\n",
      "Episode 149, Average Score: 22.62, Max: 37.34, Min: 27.17, Time: 25.70\n",
      "Episode 150, Average Score: 22.89, Max: 37.54, Min: 28.82, Time: 25.48\n",
      "Episode: 150\tAverage Score: 22.89\n",
      "Episode 151, Average Score: 23.15, Max: 37.95, Min: 26.15, Time: 25.25\n",
      "Episode 152, Average Score: 23.42, Max: 38.77, Min: 25.51, Time: 25.61\n",
      "Episode 153, Average Score: 23.68, Max: 38.72, Min: 28.75, Time: 25.44\n",
      "Episode 154, Average Score: 23.97, Max: 39.37, Min: 31.98, Time: 25.21\n",
      "Episode 155, Average Score: 24.23, Max: 37.93, Min: 31.46, Time: 25.43\n",
      "Episode 156, Average Score: 24.48, Max: 38.11, Min: 32.11, Time: 25.49\n",
      "Episode 157, Average Score: 24.72, Max: 37.66, Min: 28.78, Time: 25.30\n",
      "Episode 158, Average Score: 24.96, Max: 37.90, Min: 31.13, Time: 25.29\n",
      "Episode 159, Average Score: 25.18, Max: 37.31, Min: 30.46, Time: 25.18\n",
      "Episode 160, Average Score: 25.39, Max: 36.76, Min: 28.27, Time: 25.14\n",
      "Episode: 160\tAverage Score: 25.39\n",
      "Episode 161, Average Score: 25.59, Max: 38.56, Min: 25.94, Time: 25.10\n",
      "Episode 162, Average Score: 25.79, Max: 37.91, Min: 29.48, Time: 25.21\n",
      "Episode 163, Average Score: 25.98, Max: 37.96, Min: 12.32, Time: 25.25\n",
      "Episode 164, Average Score: 26.12, Max: 37.26, Min: 0.13, Time: 25.42\n",
      "Episode 165, Average Score: 26.32, Max: 38.25, Min: 30.77, Time: 25.31\n",
      "Episode 166, Average Score: 26.50, Max: 39.24, Min: 31.27, Time: 25.20\n",
      "Episode 167, Average Score: 26.70, Max: 38.94, Min: 32.99, Time: 25.33\n",
      "Episode 168, Average Score: 26.89, Max: 38.99, Min: 31.25, Time: 25.38\n",
      "Episode 169, Average Score: 27.08, Max: 39.50, Min: 35.13, Time: 25.64\n",
      "Episode 170, Average Score: 27.28, Max: 39.38, Min: 34.57, Time: 25.48\n",
      "Episode: 170\tAverage Score: 27.28\n",
      "Episode 171, Average Score: 27.45, Max: 39.60, Min: 32.69, Time: 25.56\n",
      "Episode 172, Average Score: 27.64, Max: 39.59, Min: 36.14, Time: 25.26\n",
      "Episode 173, Average Score: 27.84, Max: 39.58, Min: 33.73, Time: 24.80\n",
      "Episode 174, Average Score: 28.04, Max: 39.38, Min: 30.27, Time: 24.37\n",
      "Episode 175, Average Score: 28.22, Max: 39.23, Min: 34.57, Time: 24.73\n",
      "Episode 176, Average Score: 28.42, Max: 39.18, Min: 30.53, Time: 25.02\n",
      "Episode 177, Average Score: 28.62, Max: 39.54, Min: 34.36, Time: 25.07\n",
      "Episode 178, Average Score: 28.83, Max: 39.56, Min: 35.11, Time: 25.16\n",
      "Episode 179, Average Score: 29.03, Max: 39.50, Min: 29.30, Time: 25.12\n",
      "Episode 180, Average Score: 29.23, Max: 39.51, Min: 32.39, Time: 24.85\n",
      "Episode: 180\tAverage Score: 29.23\n",
      "Episode 181, Average Score: 29.40, Max: 39.33, Min: 33.65, Time: 25.26\n",
      "Episode 182, Average Score: 29.59, Max: 39.52, Min: 31.46, Time: 25.08\n",
      "Episode 183, Average Score: 29.76, Max: 38.19, Min: 34.97, Time: 25.04\n",
      "Episode 184, Average Score: 29.94, Max: 39.45, Min: 32.71, Time: 25.21\n",
      "Episode 185, Average Score: 30.11, Max: 39.66, Min: 33.73, Time: 25.15\n",
      "Episode 186, Average Score: 30.26, Max: 39.54, Min: 31.88, Time: 24.99\n",
      "Episode 187, Average Score: 30.41, Max: 39.54, Min: 32.27, Time: 25.07\n",
      "Episode 188, Average Score: 30.56, Max: 39.18, Min: 31.34, Time: 25.49\n",
      "Episode 189, Average Score: 30.72, Max: 39.50, Min: 34.62, Time: 25.53\n",
      "Episode 190, Average Score: 30.87, Max: 39.07, Min: 33.63, Time: 25.58\n",
      "Episode: 190\tAverage Score: 30.87\n",
      "Episode 191, Average Score: 31.04, Max: 39.33, Min: 34.69, Time: 25.65\n",
      "Episode 192, Average Score: 31.19, Max: 39.54, Min: 31.16, Time: 25.49\n",
      "Episode 193, Average Score: 31.34, Max: 39.64, Min: 33.76, Time: 25.78\n",
      "Episode 194, Average Score: 31.48, Max: 39.67, Min: 32.37, Time: 25.49\n",
      "Episode 195, Average Score: 31.62, Max: 39.70, Min: 34.68, Time: 25.56\n",
      "Episode 196, Average Score: 31.77, Max: 39.20, Min: 36.28, Time: 25.69\n",
      "Episode 197, Average Score: 31.89, Max: 39.42, Min: 29.49, Time: 25.45\n",
      "Episode 198, Average Score: 32.05, Max: 39.65, Min: 32.06, Time: 25.39\n",
      "\n",
      "Environment solved in 198 episodes!\tAverage Score: 32.05\n"
     ]
    }
   ],
   "source": [
    "scores = ddpg()"
   ]
  },
  {
   "cell_type": "markdown",
   "metadata": {},
   "source": [
    "### 5. Plot the scores"
   ]
  },
  {
   "cell_type": "code",
   "execution_count": 10,
   "metadata": {},
   "outputs": [
    {
     "data": {
      "image/png": "[encoded data removed]",
      "text/plain": [
       "<matplotlib.figure.Figure at 0x7f450917e160>"
      ]
     },
     "metadata": {
      "needs_background": "light"
     },
     "output_type": "display_data"
    }
   ],
   "source": [
    "f = plt.figure()\n",
    "ax = f.add_subplot(111)\n",
    "plt.plot(range(1, len(scores) + 1), scores)\n",
    "plt.xlabel('# Episodes')\n",
    "plt.ylabel('Scores')\n",
    "plt.savefig('scores_plot.png')\n",
    "plt.show()"
   ]
  },
  {
   "cell_type": "markdown",
   "metadata": {},
   "source": [
    "### 6. Watch a smart agent"
   ]
  },
  {
   "cell_type": "code",
   "execution_count": null,
   "metadata": {},
   "outputs": [],
   "source": [
    "env_info = env.reset(train_mode=False)[brain_name]     # reset the environment    \n",
    "states = env_info.vector_observations                  # get the current state (for each agent)\n",
    "scores = np.zeros(num_agents)                          # initialize the score (for each agent)\n",
    "while True:\n",
    "    actions = np.random.randn(num_agents, action_size) # select an action (for each agent)\n",
    "    actions = np.clip(actions, -1, 1)                  # all actions between -1 and 1\n",
    "    env_info = env.step(actions)[brain_name]           # send all actions to tne environment\n",
    "    next_states = env_info.vector_observations         # get next state (for each agent)\n",
    "    rewards = env_info.rewards                         # get reward (for each agent)\n",
    "    dones = env_info.local_done                        # see if episode finished\n",
    "    scores += env_info.rewards                         # update the score (for each agent)\n",
    "    states = next_states                               # roll over states to next time step\n",
    "    if np.any(dones):                                  # exit loop if episode finished\n",
    "        break\n",
    "print('Total score (averaged over agents) this episode: {}'.format(np.mean(scores)))"
   ]
  },
  {
   "cell_type": "markdown",
   "metadata": {},
   "source": [
    "When finished, you can close the environment."
   ]
  },
  {
   "cell_type": "code",
   "execution_count": null,
   "metadata": {},
   "outputs": [],
   "source": [
    "env.close()"
   ]
  }
 ],
 "metadata": {
  "kernelspec": {
   "display_name": "Python 3",
   "language": "python",
   "name": "python3"
  },
  "language_info": {
   "codemirror_mode": {
    "name": "ipython",
    "version": 3
   },
   "file_extension": ".py",
   "mimetype": "text/x-python",
   "name": "python",
   "nbconvert_exporter": "python",
   "pygments_lexer": "ipython3",
   "version": "3.6.3"
  }
 },
 "nbformat": 4,
 "nbformat_minor": 2
}
